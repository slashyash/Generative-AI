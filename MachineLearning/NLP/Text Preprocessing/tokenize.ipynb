{
 "cells": [
  {
   "cell_type": "code",
   "execution_count": 3,
   "id": "a70f689c",
   "metadata": {},
   "outputs": [],
   "source": [
    "corpus = \"The golden sun dipped behind the distant hills, casting long shadows across the quiet town. Birds chirped their final songs of the day, while the scent of fresh earth lingered in the air after a light rain. A boy in a red hoodie stood at the edge of the park, watching the sky shift from orange to deep blue. The world around him felt both peaceful and electric — as if something was just about to begin. In that still moment, time seemed to slow, and all worries faded into the soft rustle of leaves.\"\n"
   ]
  },
  {
   "cell_type": "code",
   "execution_count": null,
   "id": "59a57ad8",
   "metadata": {},
   "outputs": [
    {
     "name": "stdout",
     "output_type": "stream",
     "text": [
      "The golden sun dipped behind the distant hills, casting long shadows across the quiet town. Birds chirped their final songs of the day, while the scent of fresh earth lingered in the air after a light rain. A boy in a red hoodie stood at the edge of the park, watching the sky shift from orange to deep blue. The world around him felt both peaceful and electric — as if something was just about to begin. In that still moment, time seemed to slow, and all worries faded into the soft rustle of leaves.\n"
     ]
    }
   ],
   "source": [
    "print(corpus)\n"
   ]
  },
  {
   "cell_type": "markdown",
   "id": "1797bc11",
   "metadata": {},
   "source": [
    "TOKENIZATION \n",
    "Sentence - - > Paragraphs"
   ]
  },
  {
   "cell_type": "code",
   "execution_count": 4,
   "id": "fa6cdbda",
   "metadata": {},
   "outputs": [
    {
     "name": "stderr",
     "output_type": "stream",
     "text": [
      "[nltk_data] Downloading package punkt to /Users/yashjain/nltk_data...\n",
      "[nltk_data]   Package punkt is already up-to-date!\n"
     ]
    },
    {
     "data": {
      "text/plain": [
       "True"
      ]
     },
     "execution_count": 4,
     "metadata": {},
     "output_type": "execute_result"
    }
   ],
   "source": [
    "import nltk\n",
    "from nltk.tokenize import sent_tokenize\n",
    "nltk.download('punkt')"
   ]
  },
  {
   "cell_type": "markdown",
   "id": "c8058e42",
   "metadata": {},
   "source": []
  },
  {
   "cell_type": "code",
   "execution_count": 5,
   "id": "2be4f7ca",
   "metadata": {},
   "outputs": [
    {
     "name": "stdout",
     "output_type": "stream",
     "text": [
      "['The golden sun dipped behind the distant hills, casting long shadows across the quiet town.', 'Birds chirped their final songs of the day, while the scent of fresh earth lingered in the air after a light rain.', 'A boy in a red hoodie stood at the edge of the park, watching the sky shift from orange to deep blue.', 'The world around him felt both peaceful and electric — as if something was just about to begin.', 'In that still moment, time seemed to slow, and all worries faded into the soft rustle of leaves.']\n"
     ]
    }
   ],
   "source": [
    "sentences = sent_tokenize(corpus)\n",
    "print(sentences)"
   ]
  },
  {
   "cell_type": "code",
   "execution_count": null,
   "id": "94282e0c",
   "metadata": {},
   "outputs": [],
   "source": []
  }
 ],
 "metadata": {
  "kernelspec": {
   "display_name": "venv",
   "language": "python",
   "name": "python3"
  },
  "language_info": {
   "codemirror_mode": {
    "name": "ipython",
    "version": 3
   },
   "file_extension": ".py",
   "mimetype": "text/x-python",
   "name": "python",
   "nbconvert_exporter": "python",
   "pygments_lexer": "ipython3",
   "version": "3.12.3"
  }
 },
 "nbformat": 4,
 "nbformat_minor": 5
}
