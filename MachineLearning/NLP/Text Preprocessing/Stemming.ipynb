{
 "cells": [
  {
   "cell_type": "code",
   "execution_count": 4,
   "id": "d873d5a0",
   "metadata": {},
   "outputs": [],
   "source": [
    "words=[\"eating\",\"eats\",\"eaten\",\"writing\",\"writes\",\"programming\",\"programs\",\"history\",\"finally\",\"finalized\"]"
   ]
  },
  {
   "cell_type": "markdown",
   "id": "caac1173",
   "metadata": {},
   "source": [
    "## PorterStemmer"
   ]
  },
  {
   "cell_type": "code",
   "execution_count": 2,
   "id": "21875e4d",
   "metadata": {},
   "outputs": [],
   "source": [
    "from nltk.stem import PorterStemmer"
   ]
  },
  {
   "cell_type": "code",
   "execution_count": 3,
   "id": "9aafa7b3",
   "metadata": {},
   "outputs": [],
   "source": [
    "porterstemming = PorterStemmer()"
   ]
  },
  {
   "cell_type": "code",
   "execution_count": 6,
   "id": "cee62453",
   "metadata": {},
   "outputs": [
    {
     "name": "stdout",
     "output_type": "stream",
     "text": [
      "eating---->eat\n",
      "eats---->eat\n",
      "eaten---->eaten\n",
      "writing---->write\n",
      "writes---->write\n",
      "programming---->program\n",
      "programs---->program\n",
      "history---->histori\n",
      "finally---->final\n",
      "finalized---->final\n"
     ]
    }
   ],
   "source": [
    "for word in words:\n",
    "    print(word + '---->' + porterstemming.stem(word))"
   ]
  },
  {
   "cell_type": "markdown",
   "id": "1fc4cfd0",
   "metadata": {},
   "source": [
    "### Here as you can see history is getting converted to histori that changes its meaning\n"
   ]
  },
  {
   "cell_type": "code",
   "execution_count": 7,
   "id": "06d67a4b",
   "metadata": {},
   "outputs": [
    {
     "data": {
      "text/plain": [
       "'congratul'"
      ]
     },
     "execution_count": 7,
     "metadata": {},
     "output_type": "execute_result"
    }
   ],
   "source": [
    "porterstemming.stem(\"congratulations\")"
   ]
  },
  {
   "cell_type": "markdown",
   "id": "9aa51237",
   "metadata": {},
   "source": [
    "### Here also you can see that conratul changes entire meaning of word"
   ]
  },
  {
   "cell_type": "markdown",
   "id": "f8c0a7b0",
   "metadata": {},
   "source": [
    "## RegexpStemmer Class"
   ]
  },
  {
   "cell_type": "markdown",
   "id": "43ec76a5",
   "metadata": {},
   "source": [
    "#### This requires a expression(regular) on which this works and gives the word stem according to it."
   ]
  },
  {
   "cell_type": "code",
   "execution_count": 1,
   "id": "e0036c00",
   "metadata": {},
   "outputs": [],
   "source": [
    "from nltk.stem import RegexpStemmer"
   ]
  },
  {
   "cell_type": "code",
   "execution_count": 2,
   "id": "efde3660",
   "metadata": {},
   "outputs": [],
   "source": [
    "stemming = RegexpStemmer('ing$|s$|e$|able$', min =4)\n"
   ]
  },
  {
   "cell_type": "code",
   "execution_count": 12,
   "id": "6a37a29a",
   "metadata": {},
   "outputs": [
    {
     "name": "stdout",
     "output_type": "stream",
     "text": [
      "eating---->eat\n",
      "eats---->eat\n",
      "eaten---->eaten\n",
      "writing---->writ\n",
      "writes---->write\n",
      "programming---->programm\n",
      "programs---->program\n",
      "history---->history\n",
      "finally---->finally\n",
      "finalized---->finalized\n"
     ]
    }
   ],
   "source": [
    "for word in words:\n",
    "    print(word + '---->' + stemming.stem(word))\n"
   ]
  },
  {
   "cell_type": "code",
   "execution_count": 14,
   "id": "9994e5ed",
   "metadata": {},
   "outputs": [
    {
     "data": {
      "text/plain": [
       "'ingeat'"
      ]
     },
     "execution_count": 14,
     "metadata": {},
     "output_type": "execute_result"
    }
   ],
   "source": [
    "stemming.stem('ingeating')"
   ]
  },
  {
   "cell_type": "markdown",
   "id": "64772bf5",
   "metadata": {},
   "source": [
    "## Snowball Stemmer\""
   ]
  },
  {
   "cell_type": "code",
   "execution_count": 15,
   "id": "b9dc8ac7",
   "metadata": {},
   "outputs": [],
   "source": [
    "from nltk.stem import SnowballStemmer"
   ]
  },
  {
   "cell_type": "code",
   "execution_count": 19,
   "id": "14ad571a",
   "metadata": {},
   "outputs": [],
   "source": [
    "stemming2 = SnowballStemmer('english')"
   ]
  },
  {
   "cell_type": "code",
   "execution_count": 20,
   "id": "e17c6d2d",
   "metadata": {},
   "outputs": [
    {
     "name": "stdout",
     "output_type": "stream",
     "text": [
      "eating---->eat\n",
      "eats---->eat\n",
      "eaten---->eaten\n",
      "writing---->write\n",
      "writes---->write\n",
      "programming---->program\n",
      "programs---->program\n",
      "history---->histori\n",
      "finally---->final\n",
      "finalized---->final\n"
     ]
    }
   ],
   "source": [
    "for word in words:\n",
    "    print(word + '---->' + stemming2.stem(word))"
   ]
  },
  {
   "cell_type": "code",
   "execution_count": null,
   "id": "8f3aecc4",
   "metadata": {},
   "outputs": [],
   "source": []
  }
 ],
 "metadata": {
  "kernelspec": {
   "display_name": "venv",
   "language": "python",
   "name": "python3"
  },
  "language_info": {
   "codemirror_mode": {
    "name": "ipython",
    "version": 3
   },
   "file_extension": ".py",
   "mimetype": "text/x-python",
   "name": "python",
   "nbconvert_exporter": "python",
   "pygments_lexer": "ipython3",
   "version": "3.12.3"
  }
 },
 "nbformat": 4,
 "nbformat_minor": 5
}
