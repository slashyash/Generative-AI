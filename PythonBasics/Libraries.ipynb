{
 "cells": [
  {
   "cell_type": "code",
   "execution_count": 1,
   "id": "3dd363a1",
   "metadata": {},
   "outputs": [
    {
     "name": "stdout",
     "output_type": "stream",
     "text": [
      "/Users/yashjain/Downloads/Generative-AI/PythonBasics\n"
     ]
    }
   ],
   "source": [
    "import os\n",
    "print(os.getcwd())"
   ]
  },
  {
   "cell_type": "code",
   "execution_count": 3,
   "id": "02142286",
   "metadata": {},
   "outputs": [],
   "source": [
    "os.mkdir('test')"
   ]
  },
  {
   "cell_type": "code",
   "execution_count": 7,
   "id": "c11d07a2",
   "metadata": {},
   "outputs": [
    {
     "data": {
      "text/plain": [
       "'test/test1.txt'"
      ]
     },
     "execution_count": 7,
     "metadata": {},
     "output_type": "execute_result"
    }
   ],
   "source": [
    "import shutil\n",
    "shutil.copyfile('sample.txt', 'test/test1.txt')"
   ]
  },
  {
   "cell_type": "code",
   "execution_count": 13,
   "id": "a08de39d",
   "metadata": {},
   "outputs": [
    {
     "name": "stdout",
     "output_type": "stream",
     "text": [
      "{\"name\": \"Yash\", \"age\": 20, \"Year\": 3}\n",
      "<class 'str'>\n",
      "{'name': 'Yash', 'age': 20, 'Year': 3}\n",
      "<class 'dict'>\n"
     ]
    }
   ],
   "source": [
    "## Data Serialization\n",
    "\n",
    "import json\n",
    "\n",
    "data = {\"name\" : 'Yash', \"age\" : 20, \"Year\": 3}\n",
    "\n",
    "json_str = json.dumps(data) ## Converts json to str\n",
    "print(json_str)\n",
    "print(type(json_str))\n",
    "\n",
    "json_str1 = json.loads(json_str) ## Converts str to json\n",
    "print(json_str1)\n",
    "print(type(json_str1))"
   ]
  },
  {
   "cell_type": "code",
   "execution_count": 44,
   "id": "f7169f46",
   "metadata": {},
   "outputs": [
    {
     "name": "stdout",
     "output_type": "stream",
     "text": [
      "2\n",
      "mokshil\n"
     ]
    }
   ],
   "source": [
    "## RANDOM\n",
    "\n",
    "import random\n",
    "\n",
    "rand_int = random.randint(1,3)\n",
    "print(rand_int)\n",
    "\n",
    "rand_choice = random.choice([\"yash\", \"ayush\", \"mokshil\"])\n",
    "print(rand_choice)\n"
   ]
  },
  {
   "cell_type": "code",
   "execution_count": 49,
   "id": "dbdf66ec",
   "metadata": {},
   "outputs": [
    {
     "name": "stdout",
     "output_type": "stream",
     "text": [
      "['name', 'age']\n",
      "['Yash', '19']\n"
     ]
    }
   ],
   "source": [
    "##csv\n",
    "\n",
    "import csv\n",
    "\n",
    "with open('example.csv', mode = 'w',newline = '') as file:\n",
    "    writer = csv.writer(file)\n",
    "    writer.writerow(['name', 'age'])\n",
    "    writer.writerow(['Yash', 19])\n",
    "\n",
    "with open('example.csv', mode = 'r') as file:\n",
    "    reader = csv.reader(file)\n",
    "    for row in reader:\n",
    "        print(row)"
   ]
  },
  {
   "cell_type": "code",
   "execution_count": 54,
   "id": "f94e9515",
   "metadata": {},
   "outputs": [
    {
     "name": "stdout",
     "output_type": "stream",
     "text": [
      "2025-07-03 15:34:56.314951\n",
      "2025-06-29 15:34:56.314951\n"
     ]
    }
   ],
   "source": [
    "##datetime\n",
    "from datetime import datetime,timedelta\n",
    "\n",
    "now = datetime.now()\n",
    "print(now)\n",
    "\n",
    "yesterday = now-timedelta(days=4)\n",
    "print(yesterday)"
   ]
  },
  {
   "cell_type": "code",
   "execution_count": 57,
   "id": "e7c942b2",
   "metadata": {},
   "outputs": [
    {
     "name": "stdout",
     "output_type": "stream",
     "text": [
      "1751537159.7553978\n",
      "1751537161.760809\n"
     ]
    }
   ],
   "source": [
    "##time\n",
    "\n",
    "import time\n",
    "print(time.time())\n",
    "time.sleep(2)\n",
    "print(time.time())"
   ]
  },
  {
   "cell_type": "code",
   "execution_count": 64,
   "id": "fba5aa0a",
   "metadata": {},
   "outputs": [
    {
     "name": "stdout",
     "output_type": "stream",
     "text": [
      "12\n"
     ]
    }
   ],
   "source": [
    "## regular expression \n",
    "import re\n",
    "\n",
    "pattern = r'\\d+'\n",
    "test = 'Yash@12$'\n",
    "match = re.search(pattern,test)\n",
    "print(match.group())\n"
   ]
  },
  {
   "cell_type": "code",
   "execution_count": null,
   "id": "3d6beb8f",
   "metadata": {},
   "outputs": [],
   "source": []
  }
 ],
 "metadata": {
  "kernelspec": {
   "display_name": "venv",
   "language": "python",
   "name": "python3"
  },
  "language_info": {
   "codemirror_mode": {
    "name": "ipython",
    "version": 3
   },
   "file_extension": ".py",
   "mimetype": "text/x-python",
   "name": "python",
   "nbconvert_exporter": "python",
   "pygments_lexer": "ipython3",
   "version": "3.12.3"
  }
 },
 "nbformat": 4,
 "nbformat_minor": 5
}
