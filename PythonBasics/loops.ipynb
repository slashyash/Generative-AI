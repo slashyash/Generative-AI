{
 "cells": [
  {
   "cell_type": "code",
   "execution_count": null,
   "id": "e8ad0b2f",
   "metadata": {},
   "outputs": [
    {
     "name": "stdout",
     "output_type": "stream",
     "text": [
      "78\n"
     ]
    }
   ],
   "source": [
    "##Examples - Calculate the sum of first N natural number using a while and for loop \n",
    "\n",
    "## with for loop \n",
    "\n",
    "num = int(input(\"Enter the number you want calculate the sum to\"))\n",
    "sum = 0\n",
    "\n",
    "for i in range(0,num+1):\n",
    "    # print(i)\n",
    "    sum = sum + i\n",
    "    # print(sum)\n",
    "print(sum)\n",
    "\n"
   ]
  },
  {
   "cell_type": "code",
   "execution_count": null,
   "id": "30ae494c",
   "metadata": {},
   "outputs": [
    {
     "name": "stdout",
     "output_type": "stream",
     "text": [
      "15\n"
     ]
    }
   ],
   "source": [
    "## with while loop \n",
    "num = int(input(\"Enter the number you want calculate the sum to\"))\n",
    "sum = 0\n",
    "i = 0\n",
    "\n",
    "while (i<=num):\n",
    "    sum = sum + i\n",
    "    i = i+1\n",
    "print(sum)\n"
   ]
  },
  {
   "cell_type": "code",
   "execution_count": 20,
   "id": "40ff95d7",
   "metadata": {},
   "outputs": [
    {
     "name": "stdout",
     "output_type": "stream",
     "text": [
      "2\n",
      "3\n",
      "5\n",
      "7\n",
      "11\n",
      "13\n",
      "17\n",
      "19\n",
      "23\n",
      "29\n",
      "31\n",
      "37\n",
      "41\n",
      "43\n",
      "47\n",
      "53\n",
      "59\n",
      "61\n",
      "67\n",
      "71\n",
      "73\n",
      "79\n",
      "83\n",
      "89\n",
      "97\n"
     ]
    }
   ],
   "source": [
    "## Prime number upto a certain number from 1 to n \n",
    "\n",
    "num1 = int(input(\"Enter the number till which you want to get all the prime numbers\"))\n",
    "\n",
    "for num in range (1, num1+1):\n",
    "    if num>1:\n",
    "        for i in range (2,num):\n",
    "            if num%i == 0:\n",
    "                break\n",
    "        else :\n",
    "            print(num)\n",
    "\n",
    "\n",
    "\n",
    "\n",
    "\n"
   ]
  },
  {
   "cell_type": "code",
   "execution_count": null,
   "id": "5b8e79a2",
   "metadata": {},
   "outputs": [],
   "source": []
  }
 ],
 "metadata": {
  "kernelspec": {
   "display_name": "venv",
   "language": "python",
   "name": "python3"
  },
  "language_info": {
   "codemirror_mode": {
    "name": "ipython",
    "version": 3
   },
   "file_extension": ".py",
   "mimetype": "text/x-python",
   "name": "python",
   "nbconvert_exporter": "python",
   "pygments_lexer": "ipython3",
   "version": "3.12.3"
  }
 },
 "nbformat": 4,
 "nbformat_minor": 5
}
