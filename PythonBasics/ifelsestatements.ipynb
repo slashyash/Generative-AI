{
 "cells": [
  {
   "cell_type": "code",
   "execution_count": 1,
   "id": "b6471759",
   "metadata": {},
   "outputs": [
    {
     "name": "stdout",
     "output_type": "stream",
     "text": [
      "Result: -1.0\n"
     ]
    }
   ],
   "source": [
    "# Simple Calculator Program\n",
    "number1 = float(input(\"Enter first number: \"))\n",
    "number2 = float(input(\"Enter second number: \"))\n",
    "\n",
    "operator = input(\"Enter operator (+, -, *, /): \")\n",
    "\n",
    "if operator == \"+\":\n",
    "    result = number1 + number2\n",
    "elif operator == \"-\":\n",
    "    result = number1 - number2\n",
    "elif operator == \"*\":\n",
    "    result = number1 * number2\n",
    "elif operator == \"/\":\n",
    "    if number2 == 0:\n",
    "        result = \"Error: Division by zero\"\n",
    "    else:\n",
    "        result = number1 / number2\n",
    "else:\n",
    "    result = \"Invalid operator\"\n",
    "\n",
    "print(\"Result:\", result)"
   ]
  },
  {
   "cell_type": "code",
   "execution_count": 2,
   "id": "99943e69",
   "metadata": {},
   "outputs": [
    {
     "name": "stdout",
     "output_type": "stream",
     "text": [
      "Your Price for Ticket is: 10$\n"
     ]
    }
   ],
   "source": [
    "##Determine ticket price based on age and are you a student or not\n",
    "\n",
    "age = int(input(\"Enter your age: \"))\n",
    "is_student = input(\"Are you a student or not(yes/no)\").lower()\n",
    "\n",
    "\n",
    "if is_student == \"yes\":\n",
    "    ticket_price = \"10$\"\n",
    "elif age<5:\n",
    "    ticket_price = \"Free\"\n",
    "elif age<10:\n",
    "    ticket_price = \"10$\"\n",
    "else:\n",
    "    ticket_price = \"20$\"\n",
    "\n",
    "print(\"Your Price for Ticket is:\", ticket_price)"
   ]
  },
  {
   "cell_type": "code",
   "execution_count": null,
   "id": "9873643e",
   "metadata": {},
   "outputs": [],
   "source": []
  }
 ],
 "metadata": {
  "kernelspec": {
   "display_name": "venv",
   "language": "python",
   "name": "python3"
  },
  "language_info": {
   "codemirror_mode": {
    "name": "ipython",
    "version": 3
   },
   "file_extension": ".py",
   "mimetype": "text/x-python",
   "name": "python",
   "nbconvert_exporter": "python",
   "pygments_lexer": "ipython3",
   "version": "3.12.3"
  }
 },
 "nbformat": 4,
 "nbformat_minor": 5
}
