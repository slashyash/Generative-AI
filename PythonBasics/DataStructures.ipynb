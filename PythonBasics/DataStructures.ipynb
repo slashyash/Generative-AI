{
 "cells": [
  {
   "cell_type": "code",
   "execution_count": 23,
   "id": "985911c0",
   "metadata": {},
   "outputs": [
    {
     "name": "stdout",
     "output_type": "stream",
     "text": [
      "{1: 1, 2: 2, 3: 2, 4: 3, 5: 4}\n"
     ]
    }
   ],
   "source": [
    "numbers = [1,2,2,3,3,4,4,4,5,5,5,5]\n",
    "# print(numbers)\n",
    "frequency = {}\n",
    "\n",
    "for number in numbers:\n",
    "    if number in frequency:\n",
    "        frequency[number]+= 1\n",
    "    else:\n",
    "        frequency[number] = 1\n",
    "print(frequency)\n",
    "\n",
    "\n",
    "    \n"
   ]
  },
  {
   "cell_type": "code",
   "execution_count": 30,
   "id": "c7bce832",
   "metadata": {},
   "outputs": [
    {
     "name": "stdout",
     "output_type": "stream",
     "text": [
      "['Buy Groceries', 'Cleaning', 'Pay Bills', 'Call Friend', 'Play Pickleball']\n",
      "['Buy Groceries', 'Cleaning', 'Pay Bills', 'Play Pickleball']\n",
      "Yes Present\n",
      "The remaining to do list you have is:\n",
      "-Buy Groceries\n",
      "-Cleaning\n",
      "-Pay Bills\n",
      "-Play Pickleball\n"
     ]
    }
   ],
   "source": [
    "to_do_list=[\"Buy Groceries\", \"Cleaning\", \"Pay Bills\"]\n",
    "\n",
    "##Adding to task\n",
    "to_do_list.append(\"Call Friend\")\n",
    "to_do_list.append(\"Play Pickleball\")\n",
    "print(to_do_list)\n",
    "\n",
    "## Removing from the list\n",
    "to_do_list.remove(\"Call Friend\")\n",
    "print(to_do_list)\n",
    "\n",
    "## CHecking if task in list\n",
    "if \"Play Pickleball\" in to_do_list:\n",
    "    print(\"Yes Present\")\n",
    "else:\n",
    "    print(\"not present\")\n",
    "\n",
    "print(\"The remaining to do list you have is:\")\n",
    "for task in to_do_list:\n",
    "    print(f\"-{task}\")\n",
    "\n"
   ]
  },
  {
   "cell_type": "code",
   "execution_count": null,
   "id": "f9de2d91",
   "metadata": {},
   "outputs": [],
   "source": []
  }
 ],
 "metadata": {
  "kernelspec": {
   "display_name": "venv",
   "language": "python",
   "name": "python3"
  },
  "language_info": {
   "codemirror_mode": {
    "name": "ipython",
    "version": 3
   },
   "file_extension": ".py",
   "mimetype": "text/x-python",
   "name": "python",
   "nbconvert_exporter": "python",
   "pygments_lexer": "ipython3",
   "version": "3.12.3"
  }
 },
 "nbformat": 4,
 "nbformat_minor": 5
}
