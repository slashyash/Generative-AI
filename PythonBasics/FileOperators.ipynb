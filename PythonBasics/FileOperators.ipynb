{
 "cells": [
  {
   "cell_type": "code",
   "execution_count": null,
   "id": "fd8c64b6",
   "metadata": {},
   "outputs": [
    {
     "name": "stdout",
     "output_type": "stream",
     "text": [
      "['Hello This is Yash Jain\\n', 'How are you?\\n', 'I am good.\\n']\n",
      "3\n",
      "11\n",
      "48\n"
     ]
    }
   ],
   "source": [
    "##code to count the number of lines, words and characters\n",
    "\n",
    "with open('test/test1.txt', 'r') as file:\n",
    "    content = file.readlines()\n",
    "    print(content)\n",
    "    linecount = len(content)\n",
    "    print(linecount)\n",
    "    word_count = sum(len(line.split()) for line in content)\n",
    "    print(word_count)\n",
    "    charc_count = sum(len(line) for line in content)\n",
    "    print(charc_count) "
   ]
  },
  {
   "cell_type": "code",
   "execution_count": null,
   "id": "9fa2d1ac",
   "metadata": {},
   "outputs": [],
   "source": []
  }
 ],
 "metadata": {
  "kernelspec": {
   "display_name": "venv",
   "language": "python",
   "name": "python3"
  },
  "language_info": {
   "codemirror_mode": {
    "name": "ipython",
    "version": 3
   },
   "file_extension": ".py",
   "mimetype": "text/x-python",
   "name": "python",
   "nbconvert_exporter": "python",
   "pygments_lexer": "ipython3",
   "version": "3.12.3"
  }
 },
 "nbformat": 4,
 "nbformat_minor": 5
}
