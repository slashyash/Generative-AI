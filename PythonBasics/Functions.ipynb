{
 "cells": [
  {
   "cell_type": "code",
   "execution_count": 28,
   "id": "621753b3",
   "metadata": {},
   "outputs": [
    {
     "name": "stdout",
     "output_type": "stream",
     "text": [
      "Yes This is a strong Password\n"
     ]
    }
   ],
   "source": [
    "## Check if Password is strong or not\n",
    "def is_strong_password(password):\n",
    "    if len(password)>=8:\n",
    "        for letter in password:\n",
    "            if letter.isupper():\n",
    "                continue\n",
    "            if letter == '@' or letter == '&' or letter == \"$\":\n",
    "                print(\"Yes This is a strong Password\")\n",
    "                return\n",
    "        else:\n",
    "            print(\"Try again\")\n",
    "    else :\n",
    "        print(\"Try again\")\n",
    "\n",
    "is_strong_password(\"yasHh@12$\")\n",
    "\n",
    "## This approach is not good\n"
   ]
  },
  {
   "cell_type": "code",
   "execution_count": 31,
   "id": "5bc3e2c9",
   "metadata": {},
   "outputs": [
    {
     "name": "stdout",
     "output_type": "stream",
     "text": [
      "True\n"
     ]
    }
   ],
   "source": [
    "## Right Approach\n",
    "def strong_pass(password):\n",
    "    if len(password)<8:\n",
    "        return False\n",
    "    if not any(letter.islower() for letter in password):\n",
    "        return False\n",
    "    if not any(letter.isupper() for letter in password):\n",
    "        return False\n",
    "    if not any(letter.isdigit() for letter in password):\n",
    "        return False\n",
    "    if not any( letter in '@#$%^&*()_+!' for letter in password):\n",
    "        return False\n",
    "    return True\n",
    "\n",
    "print(strong_pass('Yash#12$'))"
   ]
  },
  {
   "cell_type": "code",
   "execution_count": 52,
   "id": "3402ece9",
   "metadata": {},
   "outputs": [
    {
     "data": {
      "text/plain": [
       "False"
      ]
     },
     "execution_count": 52,
     "metadata": {},
     "output_type": "execute_result"
    }
   ],
   "source": [
    "# Check if any string is Palindrome\n",
    "\n",
    "def is_palindrome(string):\n",
    "    # for char in string:\n",
    "    string = string.lower().replace(\" \", \"\")\n",
    "    if string[::] == string[::-1]:\n",
    "        return True\n",
    "    else:\n",
    "        return False\n",
    "\n",
    "is_palindrome('ahjA')\n"
   ]
  },
  {
   "cell_type": "code",
   "execution_count": 51,
   "id": "2ec1732d",
   "metadata": {},
   "outputs": [
    {
     "data": {
      "text/plain": [
       "True"
      ]
     },
     "execution_count": 51,
     "metadata": {},
     "output_type": "execute_result"
    }
   ],
   "source": [
    "def is_pali(string):\n",
    "    string = string.lower().replace(\" \", \"\")\n",
    "    return string[::] == string[::-1]\n",
    "\n",
    "is_pali('ab A')"
   ]
  },
  {
   "cell_type": "code",
   "execution_count": null,
   "id": "2d5e9d6c",
   "metadata": {},
   "outputs": [
    {
     "name": "stdout",
     "output_type": "stream",
     "text": [
      "3628800\n"
     ]
    }
   ],
   "source": [
    "## Calculate Factorial \n",
    "def factorial(num):\n",
    "    if num == 1 or num==0:\n",
    "        fact = 1\n",
    "    else:\n",
    "        fact = 1\n",
    "        for i in range(1,num+1):\n",
    "            fact = fact * i\n",
    "    print(fact)\n",
    "\n",
    "factorial(10)"
   ]
  },
  {
   "cell_type": "code",
   "execution_count": 54,
   "id": "ecf6bf89",
   "metadata": {},
   "outputs": [
    {
     "data": {
      "text/plain": [
       "120"
      ]
     },
     "execution_count": 54,
     "metadata": {},
     "output_type": "execute_result"
    }
   ],
   "source": [
    "## Good Approach\n",
    "def facto(num):\n",
    "    if num == 0:\n",
    "        return 1\n",
    "    else:\n",
    "        return num * facto(num-1)\n",
    "\n",
    "facto(5)"
   ]
  },
  {
   "cell_type": "code",
   "execution_count": 63,
   "id": "3eefe3f7",
   "metadata": {},
   "outputs": [
    {
     "name": "stdout",
     "output_type": "stream",
     "text": [
      "{'hello': 2, 'this': 1, 'is': 1, 'yash': 2, 'jain': 1, 'how': 3, 'are': 1, 'you': 1}\n"
     ]
    }
   ],
   "source": [
    "##read a file and count how many times a particular word comes\n",
    "\n",
    "def word_count_freq(file_path):\n",
    "    word_count={}\n",
    "    with open(file_path, 'r') as file:\n",
    "        for line in file:\n",
    "            words = line.split()\n",
    "            for word in words:\n",
    "                word = word.lower().strip('.,/!?;:')\n",
    "                word_count[word] = word_count.get(word,0)+1\n",
    "\n",
    "    return word_count\n",
    "\n",
    "filepath = 'sample.txt'\n",
    "\n",
    "word_frequency=word_count_freq(filepath)\n",
    "print(word_frequency)\n"
   ]
  },
  {
   "cell_type": "code",
   "execution_count": null,
   "id": "90024d56",
   "metadata": {},
   "outputs": [],
   "source": []
  }
 ],
 "metadata": {
  "kernelspec": {
   "display_name": "venv",
   "language": "python",
   "name": "python3"
  },
  "language_info": {
   "codemirror_mode": {
    "name": "ipython",
    "version": 3
   },
   "file_extension": ".py",
   "mimetype": "text/x-python",
   "name": "python",
   "nbconvert_exporter": "python",
   "pygments_lexer": "ipython3",
   "version": "3.12.3"
  }
 },
 "nbformat": 4,
 "nbformat_minor": 5
}
