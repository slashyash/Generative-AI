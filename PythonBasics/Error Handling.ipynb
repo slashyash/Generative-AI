{
 "cells": [
  {
   "cell_type": "code",
   "execution_count": 1,
   "id": "e2e4b6ac",
   "metadata": {},
   "outputs": [
    {
     "name": "stdout",
     "output_type": "stream",
     "text": [
      "Variable not assigned\n"
     ]
    }
   ],
   "source": [
    "try:\n",
    "    a=b\n",
    "except:\n",
    "    print(\"Variable not assigned\")\n"
   ]
  },
  {
   "cell_type": "code",
   "execution_count": 2,
   "id": "17cf87bd",
   "metadata": {},
   "outputs": [
    {
     "name": "stdout",
     "output_type": "stream",
     "text": [
      "name 'b' is not defined\n"
     ]
    }
   ],
   "source": [
    "try:\n",
    "    a=b\n",
    "except NameError as ex:\n",
    "    print(ex)"
   ]
  },
  {
   "cell_type": "code",
   "execution_count": null,
   "id": "8f27467a",
   "metadata": {},
   "outputs": [
    {
     "name": "stdout",
     "output_type": "stream",
     "text": [
      "division by zero\n",
      "Enter a denominator greater than 0 \n"
     ]
    }
   ],
   "source": [
    "try:\n",
    "    a= 1/0\n",
    "except ZeroDivisionError as ec:\n",
    "    print(ec)\n",
    "    print(\"Enter a denominator greater than 0 \")"
   ]
  },
  {
   "cell_type": "code",
   "execution_count": 9,
   "id": "4c70c5fc",
   "metadata": {},
   "outputs": [
    {
     "name": "stdout",
     "output_type": "stream",
     "text": [
      "name 'b' is not defined\n"
     ]
    }
   ],
   "source": [
    "try:\n",
    "    ab= 1/2\n",
    "    a=b\n",
    "except ZeroDivisionError as ec:\n",
    "    print(ec)\n",
    "    print(\"Enter a denominator greater than 0 \")\n",
    "except Exception as ed:\n",
    "    print(ed)"
   ]
  },
  {
   "cell_type": "code",
   "execution_count": 12,
   "id": "3277ae3d",
   "metadata": {},
   "outputs": [
    {
     "name": "stdout",
     "output_type": "stream",
     "text": [
      "the result is 0.43478260869565216\n",
      "execution completed\n"
     ]
    }
   ],
   "source": [
    "try: \n",
    "    num = int(input(\"Enter a number: \"))\n",
    "    result = 10 / num\n",
    "except ZeroDivisionError:\n",
    "    print(\"Enter a denominator greater than 0 \")\n",
    "except ValueError:\n",
    "    print(\"Not a valid number\")\n",
    "except Exception as ed:\n",
    "    print(ed)\n",
    "else:\n",
    "    print(f\"the result is {result}\")\n",
    "finally:\n",
    "    print(\"execution completed\")"
   ]
  },
  {
   "cell_type": "code",
   "execution_count": null,
   "id": "3752f93f",
   "metadata": {},
   "outputs": [],
   "source": []
  },
  {
   "cell_type": "code",
   "execution_count": null,
   "id": "211adb33",
   "metadata": {},
   "outputs": [],
   "source": []
  }
 ],
 "metadata": {
  "kernelspec": {
   "display_name": "venv",
   "language": "python",
   "name": "python3"
  },
  "language_info": {
   "codemirror_mode": {
    "name": "ipython",
    "version": 3
   },
   "file_extension": ".py",
   "mimetype": "text/x-python",
   "name": "python",
   "nbconvert_exporter": "python",
   "pygments_lexer": "ipython3",
   "version": "3.12.3"
  }
 },
 "nbformat": 4,
 "nbformat_minor": 5
}
